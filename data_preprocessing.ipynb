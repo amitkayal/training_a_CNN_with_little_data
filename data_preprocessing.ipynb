{
 "cells": [
  {
   "cell_type": "markdown",
   "metadata": {},
   "source": [
    "We will not be doing anything interesting to our data here - all we need to do is ensure that it lives in correct folders.\n",
    "\n",
    "The only other data processing step we will take is substracing the mean across each channel - this is something that we will do as part of the preprocessing function provided to ImageDataGenerator and will happen at a later time."
   ]
  },
  {
   "cell_type": "code",
   "execution_count": 5,
   "metadata": {},
   "outputs": [
    {
     "ename": "Error",
     "evalue": "Cannot move a directory 'train/cats' into itself 'train/cats/cats'.",
     "output_type": "error",
     "traceback": [
      "\u001b[0;31m---------------------------------------------------------------------------\u001b[0m",
      "\u001b[0;31mOSError\u001b[0m                                   Traceback (most recent call last)",
      "\u001b[0;32m~/anaconda3/lib/python3.6/shutil.py\u001b[0m in \u001b[0;36mmove\u001b[0;34m(src, dst, copy_function)\u001b[0m\n\u001b[1;32m    543\u001b[0m     \u001b[0;32mtry\u001b[0m\u001b[0;34m:\u001b[0m\u001b[0;34m\u001b[0m\u001b[0m\n\u001b[0;32m--> 544\u001b[0;31m         \u001b[0mos\u001b[0m\u001b[0;34m.\u001b[0m\u001b[0mrename\u001b[0m\u001b[0;34m(\u001b[0m\u001b[0msrc\u001b[0m\u001b[0;34m,\u001b[0m \u001b[0mreal_dst\u001b[0m\u001b[0;34m)\u001b[0m\u001b[0;34m\u001b[0m\u001b[0m\n\u001b[0m\u001b[1;32m    545\u001b[0m     \u001b[0;32mexcept\u001b[0m \u001b[0mOSError\u001b[0m\u001b[0;34m:\u001b[0m\u001b[0;34m\u001b[0m\u001b[0m\n",
      "\u001b[0;31mOSError\u001b[0m: [Errno 22] Invalid argument: 'train/cats' -> 'train/cats/cats'",
      "\nDuring handling of the above exception, another exception occurred:\n",
      "\u001b[0;31mError\u001b[0m                                     Traceback (most recent call last)",
      "\u001b[0;32m<ipython-input-5-6cb9d3bfdfcb>\u001b[0m in \u001b[0;36m<module>\u001b[0;34m()\u001b[0m\n\u001b[1;32m     10\u001b[0m \u001b[0;32mfor\u001b[0m \u001b[0mfname\u001b[0m \u001b[0;32min\u001b[0m \u001b[0mfnames\u001b[0m\u001b[0;34m:\u001b[0m\u001b[0;34m\u001b[0m\u001b[0m\n\u001b[1;32m     11\u001b[0m     \u001b[0mdogs_or_cats\u001b[0m \u001b[0;34m=\u001b[0m \u001b[0;34m'dogs'\u001b[0m \u001b[0;32mif\u001b[0m \u001b[0;34m'dog'\u001b[0m \u001b[0;32min\u001b[0m \u001b[0mfname\u001b[0m \u001b[0;32melse\u001b[0m \u001b[0;34m'cats'\u001b[0m\u001b[0;34m\u001b[0m\u001b[0m\n\u001b[0;32m---> 12\u001b[0;31m     \u001b[0mshutil\u001b[0m\u001b[0;34m.\u001b[0m\u001b[0mmove\u001b[0m\u001b[0;34m(\u001b[0m\u001b[0;34mf'train/{fname}'\u001b[0m\u001b[0;34m,\u001b[0m \u001b[0;34mf'train/{dogs_or_cats}/{fname}'\u001b[0m\u001b[0;34m)\u001b[0m\u001b[0;34m\u001b[0m\u001b[0m\n\u001b[0m",
      "\u001b[0;32m~/anaconda3/lib/python3.6/shutil.py\u001b[0m in \u001b[0;36mmove\u001b[0;34m(src, dst, copy_function)\u001b[0m\n\u001b[1;32m    551\u001b[0m             \u001b[0;32mif\u001b[0m \u001b[0m_destinsrc\u001b[0m\u001b[0;34m(\u001b[0m\u001b[0msrc\u001b[0m\u001b[0;34m,\u001b[0m \u001b[0mdst\u001b[0m\u001b[0;34m)\u001b[0m\u001b[0;34m:\u001b[0m\u001b[0;34m\u001b[0m\u001b[0m\n\u001b[1;32m    552\u001b[0m                 raise Error(\"Cannot move a directory '%s' into itself\"\n\u001b[0;32m--> 553\u001b[0;31m                             \" '%s'.\" % (src, dst))\n\u001b[0m\u001b[1;32m    554\u001b[0m             copytree(src, real_dst, copy_function=copy_function,\n\u001b[1;32m    555\u001b[0m                      symlinks=True)\n",
      "\u001b[0;31mError\u001b[0m: Cannot move a directory 'train/cats' into itself 'train/cats/cats'."
     ]
    }
   ],
   "source": [
    "import os, glob, shutil, random\n",
    "\n",
    "files = glob.glob('train/*')\n",
    "fnames = [f.split('/')[1] for f in files]\n",
    "\n",
    "os.makedirs('dataset/cats')\n",
    "os.makedirs('dataset/dogs')\n",
    "\n",
    "for fname in fnames:\n",
    "    dogs_or_cats = 'dogs' if 'dog' in fname else 'cats'\n",
    "    shutil.copy(f'train/{fname}', f'dataset/{dogs_or_cats}/{fname}')"
   ]
  }
 ],
 "metadata": {
  "kernelspec": {
   "display_name": "Python 3",
   "language": "python",
   "name": "python3"
  },
  "language_info": {
   "codemirror_mode": {
    "name": "ipython",
    "version": 3
   },
   "file_extension": ".py",
   "mimetype": "text/x-python",
   "name": "python",
   "nbconvert_exporter": "python",
   "pygments_lexer": "ipython3",
   "version": "3.6.2"
  }
 },
 "nbformat": 4,
 "nbformat_minor": 2
}
